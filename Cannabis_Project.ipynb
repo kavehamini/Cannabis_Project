{
 "cells": [
  {
   "cell_type": "markdown",
   "metadata": {},
   "source": [
    "# Cannabis Project"
   ]
  },
  {
   "cell_type": "markdown",
   "metadata": {},
   "source": [
    "### Introduction"
   ]
  },
  {
   "cell_type": "markdown",
   "metadata": {},
   "source": [
    "here goes the introduction"
   ]
  },
  {
   "cell_type": "code",
   "execution_count": null,
   "metadata": {},
   "outputs": [],
   "source": [
    "import warnings"
   ]
  },
  {
   "cell_type": "code",
   "execution_count": null,
   "metadata": {},
   "outputs": [],
   "source": [
    "#importing required modules\n",
    "import pandas as pd\n",
    "import numpy as np\n",
    "import matplotlib.pyplot as plt\n",
    "import seaborn as sns"
   ]
  },
  {
   "cell_type": "code",
   "execution_count": null,
   "metadata": {},
   "outputs": [],
   "source": [
    "#reading the csv file\n",
    "df = pd.read_csv('datasets_254652_535029_OCPDB.csv')\n",
    "df.head()"
   ]
  },
  {
   "cell_type": "code",
   "execution_count": null,
   "metadata": {},
   "outputs": [],
   "source": [
    "#Checking for duplicates\n",
    "df[df.duplicated(subset=None, keep='first')==True]"
   ]
  },
  {
   "cell_type": "code",
   "execution_count": null,
   "metadata": {},
   "outputs": [],
   "source": [
    "#describing the dataset\n",
    "df.describe()"
   ]
  },
  {
   "cell_type": "markdown",
   "metadata": {},
   "source": [
    "No duplicated data exists in the dataset."
   ]
  },
  {
   "cell_type": "code",
   "execution_count": null,
   "metadata": {},
   "outputs": [],
   "source": [
    "#getting the data types in columns\n",
    "print(df.dtypes)"
   ]
  },
  {
   "cell_type": "code",
   "execution_count": null,
   "metadata": {},
   "outputs": [],
   "source": [
    "#Checking to see if there is any null data in our dataset:\n",
    "df_nulls = df[df.isnull().apply(lambda x: max(x), axis=1)]\n",
    "df_nulls"
   ]
  },
  {
   "cell_type": "markdown",
   "metadata": {},
   "source": [
    "In all rows we have null values."
   ]
  },
  {
   "cell_type": "code",
   "execution_count": null,
   "metadata": {},
   "outputs": [],
   "source": [
    "#finding the number of unique strains in the dataset\n",
    "df['Strain'].nunique()"
   ]
  },
  {
   "cell_type": "code",
   "execution_count": null,
   "metadata": {},
   "outputs": [],
   "source": [
    "#counting the number of each unique strain in the dataset\n",
    "df['Strain'].value_counts()"
   ]
  },
  {
   "cell_type": "code",
   "execution_count": null,
   "metadata": {},
   "outputs": [],
   "source": [
    "#counting the number of each report type\n",
    "df['ReportType'].value_counts()"
   ]
  },
  {
   "cell_type": "code",
   "execution_count": null,
   "metadata": {},
   "outputs": [],
   "source": [
    "#checking the titles of the columns in the df\n",
    "df.columns"
   ]
  },
  {
   "cell_type": "code",
   "execution_count": null,
   "metadata": {},
   "outputs": [],
   "source": [
    "#droping the columns which have no vlues in them or have useless values (same values)\n",
    "df = df.drop(['OCPID','DateRecorded', 'SampleID', 'ReportType','ChemicalLab', 'Δ8-THC', 'THCV', 'CBDV', 'CBN', 'GeneticLab', 'Sample', 'SampleURL',\n",
    "             'Organism', 'OrganismURL', 'Project', 'ProjectURL',\n",
    "       'Study', 'StudyURL', 'Run', 'RunURL', 'DatePublished', 'Spots', 'Bases',\n",
    "       'Size', 'Notes'], axis=1)"
   ]
  },
  {
   "cell_type": "code",
   "execution_count": null,
   "metadata": {},
   "outputs": [],
   "source": [
    "#checking the head of the cleaned df\n",
    "df.head()"
   ]
  },
  {
   "cell_type": "code",
   "execution_count": null,
   "metadata": {},
   "outputs": [],
   "source": [
    "#replacing \n",
    "df['H2O']=df['H2O'].str.replace(\"%\",\"\")\n",
    "df['H2O'] = pd.to_numeric(df['H2O'], errors='coerce')"
   ]
  },
  {
   "cell_type": "code",
   "execution_count": null,
   "metadata": {},
   "outputs": [],
   "source": [
    "#checking the titles of the columns in the df\n",
    "df.columns"
   ]
  },
  {
   "cell_type": "code",
   "execution_count": null,
   "metadata": {},
   "outputs": [],
   "source": [
    "#selecting the right columns for the dataframe\n",
    "newdf = df[['Strain','H2O','TotalTHC','THC', 'THCA', 'CBG', 'α-Pinene', 'Myrcene', 'β-Pinene', 'D-Limonene', 'Linalool', 'β-Caryophyllene',\n",
    "'α-Humelene', 'α-Bisabolol']]"
   ]
  },
  {
   "cell_type": "code",
   "execution_count": null,
   "metadata": {},
   "outputs": [],
   "source": [
    "cleandf = newdf.dropna()"
   ]
  },
  {
   "cell_type": "code",
   "execution_count": null,
   "metadata": {},
   "outputs": [],
   "source": [
    "warnings.filterwarnings(\"ignore\")\n",
    "sns.set()\n",
    "fig, ((ax1,ax2,ax3,ax4,ax5,ax6,ax7,ax8,ax9,ax10,ax11,ax12))=plt.subplots(ncols=12,nrows=1,figsize=(15,6)) \n",
    "sns.distplot(cleandf['H2O'],ax=ax1);\n",
    "sns.distplot(cleandf['TotalTHC'],ax=ax2);            \n",
    "sns.distplot(cleandf['THC'],ax=ax3);\n",
    "sns.distplot(cleandf['THCA'],ax=ax4);\n",
    "sns.distplot(cleandf['CBG'],ax=ax5);\n",
    "sns.distplot(cleandf['α-Pinene'],ax=ax6);\n",
    "sns.distplot(cleandf['Myrcene'],ax=ax7);\n",
    "sns.distplot(cleandf['β-Pinene'],ax=ax8);\n",
    "sns.distplot(cleandf['D-Limonene'],ax=ax9);\n",
    "sns.distplot(cleandf['Linalool'],ax=ax10);\n",
    "sns.distplot(cleandf['α-Humelene'],ax=ax11);\n",
    "sns.distplot(cleandf['α-Bisabolol'],ax=ax12);\n",
    "\n",
    "plt.savefig('1.png')"
   ]
  },
  {
   "cell_type": "markdown",
   "metadata": {},
   "source": [
    "All the selected features are relatively normally distibuted."
   ]
  },
  {
   "cell_type": "code",
   "execution_count": null,
   "metadata": {},
   "outputs": [],
   "source": [
    "#binning the strains on the basis of their moisture content\n",
    "bins = [0, 4, 8, 11, 14]\n",
    "labels = ['very low','low','high','very high']\n",
    "cleandf['moisture content'] = pd.cut(cleandf['H2O'], bins=bins, labels=labels)"
   ]
  },
  {
   "cell_type": "code",
   "execution_count": null,
   "metadata": {},
   "outputs": [],
   "source": [
    "#showing the percentage of strains with different moisture contents in a pie chart\n",
    "plt.figure(figsize=(10,10))\n",
    "total = cleandf['moisture content'].value_counts().sum()\n",
    "cleandf['moisture content'].value_counts().plot(kind='pie', autopct=lambda p:'{:.2f}% ({:.0f})'.format(p,p * total / 100))\n",
    "plt.savefig('2.png')"
   ]
  },
  {
   "cell_type": "code",
   "execution_count": null,
   "metadata": {},
   "outputs": [],
   "source": [
    "#binning the strains on the basis of their Total THC content\n",
    "bins = [0, 100, 200, 300, 400]\n",
    "labels = ['0-100mg/g','100-200mg/g','200-300mg/g', '300-400mg/g']\n",
    "cleandf['Total THC Content'] = pd.cut(cleandf['TotalTHC'], bins=bins, labels=labels)"
   ]
  },
  {
   "cell_type": "code",
   "execution_count": null,
   "metadata": {},
   "outputs": [],
   "source": [
    "#showing the percentage of strains with different Total THC contents in a pie chart\n",
    "plt.figure(figsize=(10,10))\n",
    "total = cleandf['Total THC Content'].value_counts().sum()\n",
    "cleandf['Total THC Content'].value_counts().plot(kind='pie', autopct=lambda p:'{:.2f}% ({:.0f})'.format(p,p * total / 100))\n",
    "plt.savefig('3.png')"
   ]
  },
  {
   "cell_type": "code",
   "execution_count": null,
   "metadata": {},
   "outputs": [],
   "source": [
    "#binning the strains on the basis of their α-Pinene content\n",
    "bins = [0, 2, 4, 6]\n",
    "labels = ['0-2mg/g','2-4mg/g','4-6mg/g']\n",
    "cleandf['α-Pinene Content'] = pd.cut(cleandf['α-Pinene'], bins=bins, labels=labels)"
   ]
  },
  {
   "cell_type": "code",
   "execution_count": null,
   "metadata": {},
   "outputs": [],
   "source": [
    "#showing the percentage of strains with different α-Pinene contents in a pie chart\n",
    "plt.figure(figsize=(10,10))\n",
    "total = cleandf['α-Pinene Content'].value_counts().sum()\n",
    "cleandf['α-Pinene Content'].value_counts().plot(kind='pie', autopct=lambda p:'{:.2f}% ({:.0f})'.format(p,p * total / 100))\n",
    "plt.savefig('4.png')"
   ]
  },
  {
   "cell_type": "code",
   "execution_count": null,
   "metadata": {},
   "outputs": [],
   "source": [
    "sns.distplot(cleandf['Myrcene'])"
   ]
  },
  {
   "cell_type": "code",
   "execution_count": null,
   "metadata": {},
   "outputs": [],
   "source": [
    "#binning the strains on the basis of their α-Pinene content\n",
    "bins = [0, 5, 10, 15, 20, 25]\n",
    "labels = ['0-5mg/g','5-10mg/g','10-15mg/g', '15-20mg/g', '20-25mg/g']\n",
    "cleandf['Myrcene Content'] = pd.cut(cleandf['Myrcene'], bins=bins, labels=labels)"
   ]
  },
  {
   "cell_type": "code",
   "execution_count": null,
   "metadata": {},
   "outputs": [],
   "source": [
    "#showing the percentage of strains with different Myrcene contents in a pie chart\n",
    "plt.figure(figsize=(10,10))\n",
    "total = cleandf['Myrcene Content'].value_counts().sum()\n",
    "cleandf['Myrcene Content'].value_counts().plot(kind='pie', autopct=lambda p:'{:.2f}% ({:.0f})'.format(p,p * total / 100))\n",
    "plt.savefig('5.png')"
   ]
  },
  {
   "cell_type": "code",
   "execution_count": null,
   "metadata": {},
   "outputs": [],
   "source": [
    "#binning the strains on the basis of their D-Limonene content\n",
    "bins = [0, 2, 4, 6, 8]\n",
    "labels = ['0-2mg/g','2-4mg/g','4-6mg/g', '6-8mg/g']\n",
    "cleandf['D-Limonene Content'] = pd.cut(cleandf['D-Limonene'], bins=bins, labels=labels)"
   ]
  },
  {
   "cell_type": "code",
   "execution_count": null,
   "metadata": {},
   "outputs": [],
   "source": [
    "#showing the percentage of strains with different D-Limonene contents in a pie chart\n",
    "plt.figure(figsize=(10,10))\n",
    "total = cleandf['D-Limonene Content'].value_counts().sum()\n",
    "cleandf['D-Limonene Content'].value_counts().plot(kind='pie', autopct=lambda p:'{:.2f}% ({:.0f})'.format(p,p * total / 100))\n",
    "plt.savefig('6.png')"
   ]
  },
  {
   "cell_type": "code",
   "execution_count": null,
   "metadata": {},
   "outputs": [],
   "source": [
    "#binning the strains on the basis of their Linalool content\n",
    "bins = [0, 2, 4, 6]\n",
    "labels = ['0-2mg/g','2-4mg/g','4-6mg/g']\n",
    "cleandf['Linalool Content'] = pd.cut(cleandf['Linalool'], bins=bins, labels=labels)"
   ]
  },
  {
   "cell_type": "code",
   "execution_count": null,
   "metadata": {},
   "outputs": [],
   "source": [
    "#showing the percentage of strains with different Linalool contents in a pie chart\n",
    "plt.figure(figsize=(10,10))\n",
    "total = cleandf['Linalool Content'].value_counts().sum()\n",
    "cleandf['Linalool Content'].value_counts().plot(kind='pie', autopct=lambda p:'{:.2f}% ({:.0f})'.format(p,p * total / 100))\n",
    "plt.savefig('7.png')"
   ]
  },
  {
   "cell_type": "code",
   "execution_count": null,
   "metadata": {},
   "outputs": [],
   "source": [
    "cleandf"
   ]
  },
  {
   "cell_type": "code",
   "execution_count": null,
   "metadata": {},
   "outputs": [],
   "source": [
    "#\n",
    "plt.figure(figsize = (20, 12))\n",
    "plt.plot(cleandf[['TotalTHC','THC','THCA', 'CBG']])\n",
    "plt.xlabel(\"The ssample number\")\n",
    "plt.ylabel(\"Cannabinoid Concentration (mg/g)\")\n",
    "plt.legend(('TotalTHC', 'THC', 'THCA', 'THCA', 'CBG'))"
   ]
  },
  {
   "cell_type": "code",
   "execution_count": null,
   "metadata": {},
   "outputs": [],
   "source": [
    "cleandf['Strain'].value_counts()"
   ]
  },
  {
   "cell_type": "code",
   "execution_count": null,
   "metadata": {},
   "outputs": [],
   "source": [
    "plt.figure(figsize=(8,8))\n",
    "group = (cleandf.groupby('Strain').mean()[['TotalTHC','THC','THCA','CBG']][0:1])\n",
    "sns.barplot( data = group)\\\n",
    ".set_title(\"Cannabinoids in Double Sour D 'Mint'\")\n",
    "\n",
    "plt.figure(figsize=(8,8))\n",
    "group = (cleandf.groupby('Strain').mean()[['α-Pinene','Myrcene','β-Pinene','D-Limonene', \n",
    "                                  'Linalool','β-Caryophyllene','α-Humelene','α-Bisabolol']][0:1])\n",
    "sns.barplot( data = group)\\\n",
    ".set_title(\"Terpenes in Double Sour D 'Mint'\")\n",
    "plt.xticks(rotation=45)"
   ]
  },
  {
   "cell_type": "code",
   "execution_count": null,
   "metadata": {},
   "outputs": [],
   "source": [
    "plt.figure(figsize=(8,8))\n",
    "group = (cleandf.groupby('Strain').mean()[['TotalTHC','THC','THCA','CBG']][1:2])\n",
    "sns.barplot( data = group)\\\n",
    ".set_title(\"Cannabinoids in Acapulco Gold\")\n",
    "\n",
    "plt.figure(figsize=(8,8))\n",
    "group = (cleandf.groupby('Strain').mean()[['α-Pinene','Myrcene','β-Pinene','D-Limonene', \n",
    "                                  'Linalool','β-Caryophyllene','α-Humelene','α-Bisabolol']][1:2])\n",
    "sns.barplot( data = group)\\\n",
    ".set_title(\"Terpenes in Acapulco Gold\")\n",
    "plt.xticks(rotation=45)"
   ]
  },
  {
   "cell_type": "code",
   "execution_count": null,
   "metadata": {},
   "outputs": [],
   "source": [
    "plt.figure(figsize=(8,8))\n",
    "group = (cleandf.groupby('Strain').mean()[['TotalTHC','THC','THCA','CBG']][2:3])\n",
    "sns.barplot( data = group)\\\n",
    ".set_title(\"Cannabinoids in Alaskan Blackberry F2\")\n",
    "\n",
    "plt.figure(figsize=(8,8))\n",
    "group = (cleandf.groupby('Strain').mean()[['α-Pinene','Myrcene','β-Pinene','D-Limonene', \n",
    "                                  'Linalool','β-Caryophyllene','α-Humelene','α-Bisabolol']][2:3])\n",
    "sns.barplot( data = group)\\\n",
    ".set_title(\"Terpenes in Alaskan Blackberry F2\")\n",
    "plt.xticks(rotation=45)"
   ]
  },
  {
   "cell_type": "code",
   "execution_count": null,
   "metadata": {},
   "outputs": [],
   "source": [
    "mldf = cleandf[['Strain','H2O','TotalTHC','THC','THCA','CBG','α-Pinene','Myrcene','β-Pinene','D-Limonene','Linalool',\n",
    "         'β-Caryophyllene','α-Humelene','α-Bisabolol']]"
   ]
  },
  {
   "cell_type": "code",
   "execution_count": null,
   "metadata": {},
   "outputs": [],
   "source": [
    "mldf.head()"
   ]
  }
 ],
 "metadata": {
  "kernelspec": {
   "display_name": "Python 3",
   "language": "python",
   "name": "python3"
  },
  "language_info": {
   "codemirror_mode": {
    "name": "ipython",
    "version": 3
   },
   "file_extension": ".py",
   "mimetype": "text/x-python",
   "name": "python",
   "nbconvert_exporter": "python",
   "pygments_lexer": "ipython3",
   "version": "3.7.3"
  }
 },
 "nbformat": 4,
 "nbformat_minor": 2
}
